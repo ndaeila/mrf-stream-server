{
 "cells": [
  {
   "cell_type": "markdown",
   "metadata": {},
   "source": [
    "## Testing igzip - a recommendation from the gztool repo"
   ]
  },
  {
   "cell_type": "code",
   "execution_count": null,
   "metadata": {},
   "outputs": [],
   "source": [
    "import requests\n",
    "\n",
    "url = 'https://lifewise.sapphiremrfhub.com/mrfs/202505/MPNMRF_MPI_20250324-MPI_MPI_innetworkrates_FAC_2025-03-21.json.gz'\n",
    "local_filename = 'MPNMRF_MPI_20250324-MPI_MPI_innetworkrates_FAC_2025-03-21.json.gz'\n",
    "\n",
    "# Downloads the file: streams directly from get request to file - still compressed though\n",
    "with requests.get(url, stream=True) as r:\n",
    "    r.raise_for_status()\n",
    "    with open(local_filename, 'wb') as f:\n",
    "        for chunk in r.iter_content(chunk_size=8192):\n",
    "            f.write(chunk)\n",
    "\n",
    "import os\n",
    "\n",
    "# Get the size of the downloaded file\n",
    "file_size = os.path.getsize(local_filename)\n",
    "\n",
    "# Print the size of the file in bytes\n",
    "print(f\"Size of the file: {file_size} bytes\")\n"
   ]
  },
  {
   "cell_type": "code",
   "execution_count": null,
   "metadata": {},
   "outputs": [],
   "source": [
    "# After downloaded, move to the test-data directory (I also made a script to do this in init_scripts called download_test_gzip.sh)\n",
    "import os\n",
    "os.rename(local_filename, '../../test-data/lifewise/secondary-gzipped/test-file.gz')"
   ]
  },
  {
   "cell_type": "code",
   "execution_count": 32,
   "metadata": {},
   "outputs": [],
   "source": [
    "# Now we can use the igzip library to build the index\n",
    "import indexed_gzip as igzip\n",
    "\n",
    "# Open the gzip file with indexed_gzip\n",
    "with igzip.IndexedGzipFile(local_filename, drop_handles=False) as f:\n",
    "    # Builds the index by reading through the file\n",
    "    while f.read(1024 * 1024):\n",
    "        pass\n",
    "    # Saves the index to a file for our future use\n",
    "    f.export_index('file_index.pkl')\n"
   ]
  },
  {
   "cell_type": "code",
   "execution_count": 38,
   "metadata": {},
   "outputs": [
    {
     "name": "stdout",
     "output_type": "stream",
     "text": [
      "b'12-31\",\"negotiated_type\":\"derived\",\"billing_class\":\"institutional\",\"billing_code_modifier\":[\"CQ\"],\"a'\n"
     ]
    }
   ],
   "source": [
    "import indexed_gzip as igzip\n",
    "\n",
    "# Open the gzip file\n",
    "with igzip.IndexedGzipFile(local_filename, drop_handles=False) as f:\n",
    "    # Load the previously saved index\n",
    "    f.import_index('file_index.pkl')\n",
    "    \n",
    "    # Seek to a specific offset in the uncompressed data\n",
    "    f.seek(5005000)  # For example, seek to byte 1,000,000\n",
    "    data = f.read(100)  # Read 100 bytes from that position\n",
    "    print(data)\n"
   ]
  },
  {
   "cell_type": "code",
   "execution_count": null,
   "metadata": {},
   "outputs": [],
   "source": []
  }
 ],
 "metadata": {
  "kernelspec": {
   "display_name": "Python 3",
   "language": "python",
   "name": "python3"
  },
  "language_info": {
   "codemirror_mode": {
    "name": "ipython",
    "version": 3
   },
   "file_extension": ".py",
   "mimetype": "text/x-python",
   "name": "python",
   "nbconvert_exporter": "python",
   "pygments_lexer": "ipython3",
   "version": "3.12.6"
  }
 },
 "nbformat": 4,
 "nbformat_minor": 2
}
